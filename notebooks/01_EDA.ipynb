{
 "cells": [
  {
   "cell_type": "code",
   "execution_count": null,
   "id": "9f29f247",
   "metadata": {},
   "outputs": [],
   "source": [
    "# --- Importação de bibliotecas ---\n",
    "import pandas as pd\n",
    "import numpy as np\n",
    "import matplotlib.pyplot as plt\n",
    "import seaborn as sns\n",
    "\n",
    "# --- Configurações de exibição ---\n",
    "pd.set_option('display.max_columns', None)\n",
    "sns.set(style='whitegrid')\n",
    "\n",
    "# --- Carregando o dataset ---\n",
    "df = pd.read_csv('youtube_views.csv')\n",
    "df.head()\n"
   ]
  },
  {
   "cell_type": "code",
   "execution_count": null,
   "id": "5da7bb52",
   "metadata": {},
   "outputs": [],
   "source": [
    "# --- Visão geral do dataset ---\n",
    "\n",
    "# Exibe informações gerais: número de entradas, tipos de dados e valores nulos\n",
    "df.info()\n",
    "\n",
    "# Exibe o número total de linhas e colunas (dimensão do dataset)\n",
    "print(\"\\nDimensão do dataset (linhas, colunas):\", df.shape)\n",
    "\n",
    "# Exibe estatísticas descritivas das colunas numéricas\n",
    "df.describe()\n"
   ]
  },
  {
   "cell_type": "code",
   "execution_count": null,
   "id": "04e649d9",
   "metadata": {},
   "outputs": [],
   "source": [
    "#analise de valores faltantes \n",
    "missing_percent = (df.isnull().mean() * 100).sort_values(ascending=False)\n",
    "\n",
    "plt.figure(figsize=(10,5))\n",
    "sns.barplot(x=missing_percent.index, y=missing_percent.values, color='salmon')\n",
    "plt.title('Percentual de Valores Faltantes por Coluna')\n",
    "plt.ylabel('% de Valores Faltantes')\n",
    "plt.xticks(rotation=90)\n",
    "plt.show()"
   ]
  },
  {
   "cell_type": "code",
   "execution_count": null,
   "id": "4270ade1",
   "metadata": {},
   "outputs": [],
   "source": [
    "# Distribuição das visualizações\n",
    "plt.figure(figsize=(8,5))\n",
    "sns.histplot(df['total_views'], bins=30, kde=True, color='skyblue')\n",
    "plt.title('Distribuição de Visualizações dos Vídeos no YouTube')\n",
    "plt.xlabel('Número de Visualizações')\n",
    "plt.ylabel('Quantidade de Vídeos')\n",
    "plt.show()\n"
   ]
  },
  {
   "cell_type": "code",
   "execution_count": null,
   "id": "5659bf57",
   "metadata": {},
   "outputs": [],
   "source": [
    "#analise de variavel alvo\n",
    "df['total_views'].describe()\n",
    "\n",
    "#verificar distribuição da variavel alvo\n",
    "sns.histplot(df['total_views'], bins=30, kde=True, color='salmon')\n",
    "plt.title('Distribuição das Visualizações (total_views)')\n",
    "plt.show()\n"
   ]
  },
  {
   "cell_type": "code",
   "execution_count": null,
   "id": "8ae32a1d",
   "metadata": {},
   "outputs": [],
   "source": [
    "#analise univariada - variavel numerica\n",
    "Q1 = df['likes_count'].quantile(0.25)\n",
    "Q3 = df['likes_count'].quantile(0.75)\n",
    "IQR = Q3 - Q1\n",
    "outliers = df[(df['likes_count'] < Q1 - 1.5*IQR) | (df['likes_count'] > Q3 + 1.5*IQR)]\n",
    "print(len(outliers))"
   ]
  },
  {
   "cell_type": "code",
   "execution_count": null,
   "id": "cb297584",
   "metadata": {},
   "outputs": [],
   "source": [
    "#analise univariada - variaveis categoricas\n",
    "df['language'].value_counts(normalize=True) * 100\n",
    "sns.countplot(x='language', data=df, palette='viridis')\n",
    "plt.xticks(rotation=45)\n",
    "plt.show()"
   ]
  },
  {
   "cell_type": "code",
   "execution_count": null,
   "id": "c6cff0a3",
   "metadata": {},
   "outputs": [],
   "source": [
    "#analise de correlações\n",
    "corr = df.corr(numeric_only=True)\n",
    "plt.figure(figsize=(10,8))\n",
    "sns.heatmap(corr, annot=True, cmap='coolwarm')\n",
    "plt.title('Matriz de Correlação')\n",
    "plt.show()\n"
   ]
  },
  {
   "cell_type": "code",
   "execution_count": null,
   "id": "9dab5bf4",
   "metadata": {},
   "outputs": [],
   "source": [
    "#analise bivariada\n",
    "\n",
    "sns.boxplot(x='category', y='total_views', data=df)\n",
    "plt.xticks(rotation=45)\n",
    "plt.title('Visualizações por Categoria')\n",
    "plt.show()\n"
   ]
  }
 ],
 "metadata": {
  "kernelspec": {
   "display_name": "Python 3",
   "language": "python",
   "name": "python3"
  },
  "language_info": {
   "codemirror_mode": {
    "name": "ipython",
    "version": 3
   },
   "file_extension": ".py",
   "mimetype": "text/x-python",
   "name": "python",
   "nbconvert_exporter": "python",
   "pygments_lexer": "ipython3",
   "version": "3.14.0"
  }
 },
 "nbformat": 4,
 "nbformat_minor": 5
}
