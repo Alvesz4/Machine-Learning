{
 "cells": [
  {
   "cell_type": "code",
   "execution_count": null,
   "id": "9f29f247",
   "metadata": {},
   "outputs": [],
   "source": [
    "# --- Importação de bibliotecas ---\n",
    "import pandas as pd\n",
    "import numpy as np\n",
    "import matplotlib.pyplot as plt\n",
    "import seaborn as sns\n",
    "\n",
    "# --- Configurações de exibição ---\n",
    "pd.set_option('display.max_columns', None)\n",
    "sns.set(style='whitegrid')\n",
    "\n",
    "# --- Carregando o dataset ---\n",
    "df = pd.read_csv('youtube_views.csv')\n",
    "df.head()\n"
   ]
  },
  {
   "cell_type": "code",
   "execution_count": null,
   "id": "5da7bb52",
   "metadata": {},
   "outputs": [],
   "source": [
    "# --- Visão geral do dataset ---\n",
    "\n",
    "# Exibe informações gerais: número de entradas, tipos de dados e valores nulos\n",
    "df.info()\n",
    "\n",
    "# Exibe o número total de linhas e colunas (dimensão do dataset)\n",
    "print(\"\\nDimensão do dataset (linhas, colunas):\", df.shape)\n",
    "\n",
    "# Exibe estatísticas descritivas das colunas numéricas\n",
    "df.describe()\n"
   ]
  },
  {
   "cell_type": "code",
   "execution_count": null,
   "id": "22741d23",
   "metadata": {},
   "outputs": [],
   "source": [
    "# Listar colunas\n",
    "print(\"\\nColunas disponíveis:\")\n",
    "print(df.columns.tolist())"
   ]
  },
  {
   "cell_type": "markdown",
   "id": "808df3ac",
   "metadata": {},
   "source": [
    "1-Análise de Valores Faltantes"
   ]
  },
  {
   "cell_type": "code",
   "execution_count": null,
   "id": "04e649d9",
   "metadata": {},
   "outputs": [],
   "source": [
    "#analise de valores faltantes\n",
    "\n",
    "# Contagem de valores nulos\n",
    "df.isnull().sum()\n",
    "\n",
    "\n",
    "# Percentual de valores nulos\n",
    "missing_percent = (df.isnull().mean() * 100).sort_values(ascending=False)\n",
    "\n",
    "# Visualização dos valores faltantes\n",
    "plt.figure(figsize=(10,5))\n",
    "sns.heatmap(df.isnull(), cbar=False, cmap='viridis')\n",
    "plt.title('Mapa de Valores Faltantes no Dataset')\n",
    "plt.show()"
   ]
  },
  {
   "cell_type": "code",
   "execution_count": null,
   "id": "4270ade1",
   "metadata": {},
   "outputs": [],
   "source": [
    "# Distribuição das visualizações\n",
    "plt.figure(figsize=(8,5))\n",
    "sns.histplot(df['total_views'], bins=30, kde=True, color='skyblue')\n",
    "plt.title('Distribuição de Visualizações dos Vídeos no YouTube')\n",
    "plt.xlabel('Número de Visualizações')\n",
    "plt.ylabel('Quantidade de Vídeos')\n",
    "plt.show()\n"
   ]
  },
  {
   "cell_type": "markdown",
   "id": "0294733e",
   "metadata": {},
   "source": [
    "2-Análise da Variável Alvo (total_views)"
   ]
  },
  {
   "cell_type": "code",
   "execution_count": null,
   "id": "5659bf57",
   "metadata": {},
   "outputs": [],
   "source": [
    "#analise de variavel alvo\n",
    "df['total_views'].describe()\n",
    "\n",
    "#verificar distribuição da variavel alvo\n",
    "sns.histplot(df['total_views'], bins=30, kde=True, color='salmon')\n",
    "plt.title('Distribuição das Visualizações (total_views)')\n",
    "plt.show()\n"
   ]
  },
  {
   "cell_type": "code",
   "execution_count": null,
   "id": "cce3839c",
   "metadata": {},
   "outputs": [],
   "source": [
    "# Boxplot\n",
    "plt.figure(figsize=(6,4))\n",
    "sns.boxplot(x=df['total_views'], color='lightblue')\n",
    "plt.title('Boxplot - Visualizações dos Vídeos')\n",
    "plt.xlabel('Número de Visualizações')\n",
    "plt.show()\n"
   ]
  },
  {
   "cell_type": "code",
   "execution_count": null,
   "id": "11577d97",
   "metadata": {},
   "outputs": [],
   "source": [
    "# Estatísticas descritivas\n",
    "print(\"Estatísticas descritivas:\")\n",
    "print(df['total_views'].describe())"
   ]
  },
  {
   "cell_type": "code",
   "execution_count": null,
   "id": "955b9876",
   "metadata": {},
   "outputs": [],
   "source": [
    "# Assimetria e curtose\n",
    "print(\"\\nSkewness:\", df['total_views'].skew())\n",
    "print(\"Kurtosis:\", df['total_views'].kurt())"
   ]
  },
  {
   "cell_type": "markdown",
   "id": "8b5f73ee",
   "metadata": {},
   "source": [
    "3-Análise Univariada - Variáveis Numéricas"
   ]
  },
  {
   "cell_type": "code",
   "execution_count": null,
   "id": "8ae32a1d",
   "metadata": {},
   "outputs": [],
   "source": [
    "# Define a variável alvo\n",
    "target = 'total_views'\n",
    "\n",
    "# Análise univariada - variáveis numéricas\n",
    "for col in num_vars:\n",
    "    if col != target:\n",
    "        plt.figure(figsize=(8,5))\n",
    "        sns.histplot(df[col], kde=True, color='steelblue')\n",
    "        plt.title(f'Distribuição da variável {col}')\n",
    "        plt.xlabel(col)\n",
    "        plt.ylabel('Frequência')\n",
    "        plt.show()\n",
    "        \n",
    "        print(f\"\\n {col} - Estatísticas:\")\n",
    "        print(df[col].describe())\n",
    "        print(f\"Skewness: {df[col].skew():.2f}\")\n",
    "        print(\"-\" * 50)\n"
   ]
  },
  {
   "cell_type": "markdown",
   "id": "b14c00e2",
   "metadata": {},
   "source": [
    "4-nálise Univariada - Variáveis Categóricas"
   ]
  },
  {
   "cell_type": "code",
   "execution_count": null,
   "id": "79c4dc73",
   "metadata": {},
   "outputs": [],
   "source": [
    "#analise univariada - variaveis categoricas\n",
    "df['language'].value_counts(normalize=True) * 100\n",
    "sns.countplot(x='language', data=df, palette='viridis')\n",
    "plt.xticks(rotation=45)\n",
    "plt.show()"
   ]
  },
  {
   "cell_type": "code",
   "execution_count": null,
   "id": "cb297584",
   "metadata": {},
   "outputs": [],
   "source": [
    "#analise univariada - variaveis categóricas\n",
    "df['language'].value_counts(normalize=True) * 100\n",
    "sns.countplot(x='language', data=df, palette='viridis')\n",
    "plt.xticks(rotation=45)\n",
    "plt.show()"
   ]
  },
  {
   "cell_type": "code",
   "execution_count": null,
   "id": "259ea683",
   "metadata": {},
   "outputs": [],
   "source": [
    "# Separar variáveis numéricas e categóricas\n",
    "num_vars = df.select_dtypes(include=['int64', 'float64']).columns\n",
    "cat_vars = df.select_dtypes(include=['object', 'bool']).columns\n",
    "\n",
    "print(\"\\nVariáveis numéricas:\", num_vars.tolist())\n",
    "print(\"\\nVariáveis categóricas:\", cat_vars.tolist())"
   ]
  },
  {
   "cell_type": "markdown",
   "id": "ac325eb0",
   "metadata": {},
   "source": [
    "5-Análise de Correlações"
   ]
  },
  {
   "cell_type": "code",
   "execution_count": null,
   "id": "c6cff0a3",
   "metadata": {},
   "outputs": [],
   "source": [
    "#analise de correlações\n",
    "corr = df[num_vars].corr()\n",
    "\n",
    "plt.figure(figsize=(10,8))\n",
    "sns.heatmap(corr, annot=True, cmap='coolwarm', fmt=\".2f\")\n",
    "plt.title('Matriz de Correlação - Variáveis Numéricas')\n",
    "plt.show()\n"
   ]
  },
  {
   "cell_type": "markdown",
   "id": "9c032931",
   "metadata": {},
   "source": [
    "6-Análise Bivariada (Features vs Target)\n"
   ]
  },
  {
   "cell_type": "code",
   "execution_count": null,
   "id": "9dab5bf4",
   "metadata": {},
   "outputs": [],
   "source": [
    "#analise bivariada\n",
    "\n",
    "# Exemplo com variáveis numéricas\n",
    "for col in ['likes_count', 'comments_count', 'shares_count']:\n",
    "    plt.figure(figsize=(7,4))\n",
    "    sns.scatterplot(x=df[col], y=df[target])\n",
    "    plt.title(f'Relação entre {col} e {target}')\n",
    "    plt.xlabel(col)\n",
    "    plt.ylabel('Visualizações')\n",
    "    plt.show()\n"
   ]
  },
  {
   "cell_type": "code",
   "execution_count": null,
   "id": "21ffbe50",
   "metadata": {},
   "outputs": [],
   "source": [
    "# Exemplo com categóricas\n",
    "plt.figure(figsize=(8,5))\n",
    "sns.boxplot(x='promoted', y=target, data=df, palette='Set2')\n",
    "plt.title('Visualizações x Promoção')\n",
    "plt.xlabel('Promovido')\n",
    "plt.ylabel('Total de Visualizações')\n",
    "plt.show()"
   ]
  },
  {
   "cell_type": "markdown",
   "id": "8a5d9212",
   "metadata": {},
   "source": [
    "7-Identificação de Outliers"
   ]
  },
  {
   "cell_type": "code",
   "execution_count": null,
   "id": "9b2db851",
   "metadata": {},
   "outputs": [],
   "source": [
    "#indentificar os outliers\n",
    "for col in num_vars:\n",
    "    Q1 = df[col].quantile(0.25)\n",
    "    Q3 = df[col].quantile(0.75)\n",
    "    IQR = Q3 - Q1\n",
    "    lower = Q1 - 1.5 * IQR\n",
    "    upper = Q3 + 1.5 * IQR\n",
    "    outliers = df[(df[col] < lower) | (df[col] > upper)]\n",
    "    perc = (len(outliers) / len(df)) * 100\n",
    "    print(f\"{col}: {len(outliers)} outliers ({perc:.2f}%)\")"
   ]
  }
 ],
 "metadata": {
  "kernelspec": {
   "display_name": "venv",
   "language": "python",
   "name": "python3"
  },
  "language_info": {
   "codemirror_mode": {
    "name": "ipython",
    "version": 3
   },
   "file_extension": ".py",
   "mimetype": "text/x-python",
   "name": "python",
   "nbconvert_exporter": "python",
   "pygments_lexer": "ipython3",
   "version": "3.14.0"
  }
 },
 "nbformat": 4,
 "nbformat_minor": 5
}
